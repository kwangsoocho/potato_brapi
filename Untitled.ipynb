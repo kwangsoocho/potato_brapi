{
 "cells": [
  {
   "cell_type": "code",
   "execution_count": 1,
   "id": "8e4341d8",
   "metadata": {},
   "outputs": [],
   "source": [
    "import requests, pandas as pd\n",
    "endpoint = \"http://localhost:5101/api/brapi/v2/\""
   ]
  },
  {
   "cell_type": "code",
   "execution_count": 2,
   "id": "261d8d49",
   "metadata": {},
   "outputs": [],
   "source": [
    "response = requests.get(endpoint + \"germplasm/\")\n",
    "germplasm = pd.json_normalize(response.json()[\"result\"][\"data\"])"
   ]
  },
  {
   "cell_type": "code",
   "execution_count": 3,
   "id": "0df04f1a",
   "metadata": {},
   "outputs": [],
   "source": [
    "import matplotlib.pyplot as plt"
   ]
  },
  {
   "cell_type": "code",
   "execution_count": 4,
   "id": "c7a304c6",
   "metadata": {},
   "outputs": [
    {
     "data": {
      "text/plain": [
       "<function matplotlib.pyplot.show(close=None, block=None)>"
      ]
     },
     "execution_count": 4,
     "metadata": {},
     "output_type": "execute_result"
    },
    {
     "data": {
      "image/png": "[encoded data removed]",
      "text/plain": [
       "<Figure size 432x288 with 1 Axes>"
      ]
     },
     "metadata": {
      "needs_background": "light"
     },
     "output_type": "display_data"
    }
   ],
   "source": [
    "germplasm[\"countryOfOriginCode\"]. value_counts().plot(kind=\"bar\")\n",
    "plt.show"
   ]
  }
 ],
 "metadata": {
  "kernelspec": {
   "display_name": "Python 3",
   "language": "python",
   "name": "python3"
  },
  "language_info": {
   "codemirror_mode": {
    "name": "ipython",
    "version": 3
   },
   "file_extension": ".py",
   "mimetype": "text/x-python",
   "name": "python",
   "nbconvert_exporter": "python",
   "pygments_lexer": "ipython3",
   "version": "3.8.5"
  }
 },
 "nbformat": 4,
 "nbformat_minor": 5
}
